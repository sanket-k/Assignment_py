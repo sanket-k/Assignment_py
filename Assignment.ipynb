{
 "cells": [
  {
   "cell_type": "markdown",
   "metadata": {},
   "source": [
    "# Assignment"
   ]
  },
  {
   "cell_type": "markdown",
   "metadata": {},
   "source": [
    "## Question 1:\n",
    "\n",
    "Write a program that calculates and prints the value according to the given formula:\n",
    "\n",
    "Q = Square root of [(2 * C * D)/H]\n",
    "\n",
    "Following are the fixed values of C and H:\n",
    "\n",
    "C is 50. H is 30.\n",
    "\n",
    "D is the variable whose values should be input to your program in a comma-separated\n",
    "sequence.\n",
    "\n",
    "#### Example\n",
    "\n",
    "Let us assume the following comma separated input sequence is given to the program:\n",
    "\n",
    "100,150,180\n",
    "\n",
    "The output of the program should be:\n",
    "\n",
    "18,22,24\n",
    "\n",
    "#### Hints:\n",
    "\n",
    "If the output received is in decimal form, it should be rounded off to its nearest value (for\n",
    "example, if the output received is 26.0, it should be printed as 26)."
   ]
  },
  {
   "cell_type": "markdown",
   "metadata": {},
   "source": [
    "### Version 1"
   ]
  },
  {
   "cell_type": "code",
   "execution_count": 1,
   "metadata": {},
   "outputs": [],
   "source": [
    "import math                                              #import necessary libraries "
   ]
  },
  {
   "cell_type": "code",
   "execution_count": null,
   "metadata": {},
   "outputs": [],
   "source": [
    "#define function to implement formula\n",
    "def squareRoot(int):\n",
    "    return (math.floor(math.sqrt((2 * C * D) / H)))"
   ]
  },
  {
   "cell_type": "markdown",
   "metadata": {},
   "source": [
    "#### Formula :  $$ Q = {\\sqrt {2 * C * D\\over H}} $$"
   ]
  },
  {
   "cell_type": "code",
   "execution_count": 19,
   "metadata": {},
   "outputs": [
    {
     "name": "stdout",
     "output_type": "stream",
     "text": [
      "enter number : 100\n",
      "The answer is 18 \n"
     ]
    }
   ],
   "source": [
    "#initialize pre defined values\n",
    "C = 50\n",
    "H = 30\n",
    "\n",
    "D = int(input(\"enter number : \"))                       # input the variable D\n",
    "print(\"The answer is {} \".format(squareRoot(D)))        # print answer by calling the defined function"
   ]
  },
  {
   "cell_type": "markdown",
   "metadata": {},
   "source": [
    "### Version 2"
   ]
  },
  {
   "cell_type": "code",
   "execution_count": 18,
   "metadata": {},
   "outputs": [],
   "source": [
    "import math                                              #import necessary libraries "
   ]
  },
  {
   "cell_type": "markdown",
   "metadata": {},
   "source": [
    "#### Formula :  $$ Q = {\\sqrt {2 * C * D\\over H}} $$"
   ]
  },
  {
   "cell_type": "code",
   "execution_count": 21,
   "metadata": {},
   "outputs": [
    {
     "name": "stdout",
     "output_type": "stream",
     "text": [
      "enter number : 150\n",
      "the answer is 22 \n"
     ]
    }
   ],
   "source": [
    "##initialize pre-defined values\n",
    "C = 50\n",
    "H = 30\n",
    "\n",
    "D = int(input(\"enter number : \"))                        # input the variable D\n",
    "answer = math.floor(math.sqrt((2 * C * D) / H))          # calculate answer by passing through provided formula\n",
    "print(\"the answer is {} \".format(answer))                # print answer "
   ]
  },
  {
   "cell_type": "markdown",
   "metadata": {},
   "source": [
    "## Question 2"
   ]
  },
  {
   "cell_type": "markdown",
   "metadata": {},
   "source": [
    "Write a program which takes 2 digits, X,Y as input and generates a 2-dimensional array. The\n",
    "element value in the i-th row and j-th column of the array should be i*j.\n",
    "\n",
    "Note: i=0,1.., X-1; j=0,1,¡ Y-1.\n",
    "\n",
    "#### Example\n",
    "\n",
    "Suppose the following inputs are given to the program:\n",
    "    \n",
    "3,5\n",
    "\n",
    "Then, the output of the program should be:\n",
    "    \n",
    "[[0, 0, 0, 0, 0], [0, 1, 2, 3, 4], [0, 2, 4, 6, 8]]"
   ]
  },
  {
   "cell_type": "markdown",
   "metadata": {},
   "source": [
    "### Version 1"
   ]
  },
  {
   "cell_type": "code",
   "execution_count": 4,
   "metadata": {},
   "outputs": [],
   "source": [
    "#define function to display matrix by accepting variables\n",
    "def displayMatrix(x,y):\n",
    "    dim_array = [[0 for j in range(y)] for i in range(x)]        # define array\n",
    "    for i in range(x):                                           # use recurvise loop to reach entered numbers  \n",
    "        for j in range(y):\n",
    "            dim_array[i][j] = i * j                              # allocate array by multiplying the row and columns\n",
    "    return(dim_array)                                            # return array"
   ]
  },
  {
   "cell_type": "code",
   "execution_count": 5,
   "metadata": {
    "scrolled": true
   },
   "outputs": [
    {
     "name": "stdout",
     "output_type": "stream",
     "text": [
      "Input the number of rows : 3\n",
      "Input the number of columns : 5\n",
      "the 2-Dimensional array is : [[0, 0, 0, 0, 0], [0, 1, 2, 3, 4], [0, 2, 4, 6, 8]]\n"
     ]
    }
   ],
   "source": [
    "x = int(input(\"Input the number of rows : \"))                    # input the number of rows\n",
    "y = int(input(\"Input the number of columns : \"))                 # input number of columns\n",
    "\n",
    "print(\"the 2-Dimensional array is : {}\". format(displayMatrix(x,y)))    # display the array"
   ]
  },
  {
   "cell_type": "markdown",
   "metadata": {},
   "source": [
    "### Verision 2"
   ]
  },
  {
   "cell_type": "code",
   "execution_count": 3,
   "metadata": {},
   "outputs": [
    {
     "name": "stdout",
     "output_type": "stream",
     "text": [
      "Input number of rows: 3\n",
      "Input number of columns: 5\n",
      "the 2-Dimensional array is : [[0, 0, 0, 0, 0], [0, 1, 2, 3, 4], [0, 2, 4, 6, 8]]\n"
     ]
    }
   ],
   "source": [
    "row_num = int(input(\"Input number of rows: \"))                           # input rows\n",
    "col_num = int(input(\"Input number of columns: \"))                        # input columns\n",
    "multi_list = [[0 for col in range(col_num)] for row in range(row_num)]   # allocate array\n",
    "\n",
    "for row in range(row_num):                                               # recursive loop to reach entered numbers  \n",
    "    for col in range(col_num):                                     \n",
    "        multi_list[row][col]= row*col                                    # allocate array by multiplying the row and columns\n",
    "\n",
    "print(\"the 2-Dimensional array is : {}\".format(multi_list))              # display the array "
   ]
  },
  {
   "cell_type": "markdown",
   "metadata": {},
   "source": [
    "## Question 3"
   ]
  },
  {
   "cell_type": "markdown",
   "metadata": {},
   "source": [
    "### Note: problem similar to Question 2"
   ]
  },
  {
   "cell_type": "markdown",
   "metadata": {},
   "source": [
    "Write a program which takes 2 digits, X,Y as input and generates a 2-dimensional array. The\n",
    "element value in the i-th row and j-th column of the array should be i*j.\n",
    "\n",
    "Note: i=0,1.., X-1; j=0,1,¡ Y-1.\n",
    "\n",
    "#### Example\n",
    "\n",
    "Suppose the following inputs are given to the program:\n",
    "    \n",
    "3,5\n",
    "\n",
    "Then, the output of the program should be:\n",
    "    \n",
    "[[0, 0, 0, 0, 0], [0, 1, 2, 3, 4], [0, 2, 4, 6, 8]]"
   ]
  },
  {
   "cell_type": "markdown",
   "metadata": {},
   "source": [
    "### Version 1"
   ]
  },
  {
   "cell_type": "code",
   "execution_count": 4,
   "metadata": {},
   "outputs": [],
   "source": [
    "#define function to display matrix by accepting variables\n",
    "def displayMatrix(x,y):\n",
    "    dim_array = [[0 for j in range(y)] for i in range(x)]        # define array\n",
    "    for i in range(x):                                           # use recurvise loop to reach entered numbers  \n",
    "        for j in range(y):\n",
    "            dim_array[i][j] = i * j                              # allocate array by multiplying the row and columns\n",
    "    return(dim_array)                                            # return array"
   ]
  },
  {
   "cell_type": "code",
   "execution_count": 5,
   "metadata": {
    "scrolled": true
   },
   "outputs": [
    {
     "name": "stdout",
     "output_type": "stream",
     "text": [
      "Input the number of rows : 3\n",
      "Input the number of columns : 5\n",
      "the 2-Dimensional array is : [[0, 0, 0, 0, 0], [0, 1, 2, 3, 4], [0, 2, 4, 6, 8]]\n"
     ]
    }
   ],
   "source": [
    "x = int(input(\"Input the number of rows : \"))                    # input the number of rows\n",
    "y = int(input(\"Input the number of columns : \"))                 # input number of columns\n",
    "\n",
    "print(\"the 2-Dimensional array is : {}\". format(displayMatrix(x,y)))    # display the array"
   ]
  },
  {
   "cell_type": "markdown",
   "metadata": {},
   "source": [
    "### Verision 2"
   ]
  },
  {
   "cell_type": "code",
   "execution_count": 3,
   "metadata": {},
   "outputs": [
    {
     "name": "stdout",
     "output_type": "stream",
     "text": [
      "Input number of rows: 3\n",
      "Input number of columns: 5\n",
      "the 2-Dimensional array is : [[0, 0, 0, 0, 0], [0, 1, 2, 3, 4], [0, 2, 4, 6, 8]]\n"
     ]
    }
   ],
   "source": [
    "row_num = int(input(\"Input number of rows: \"))                           # input rows\n",
    "col_num = int(input(\"Input number of columns: \"))                        # input columns\n",
    "multi_list = [[0 for col in range(col_num)] for row in range(row_num)]   # allocate array\n",
    "\n",
    "for row in range(row_num):                                               # recursive loop to reach entered numbers  \n",
    "    for col in range(col_num):                                     \n",
    "        multi_list[row][col]= row*col                                    # allocate array by multiplying the row and columns\n",
    "\n",
    "print(\"the 2-Dimensional array is : {}\".format(multi_list))              # display the array "
   ]
  },
  {
   "cell_type": "markdown",
   "metadata": {},
   "source": [
    "## Question 4"
   ]
  },
  {
   "cell_type": "markdown",
   "metadata": {},
   "source": [
    "Write a program that accepts a sequence of whitespace separated words as input and prints the\n",
    "words after removing all duplicate words and sorting them alphanumerically.\n",
    "\n",
    "Suppose the following input is supplied to the program:\n",
    "\n",
    "hello world and practice makes perfect and hello world again\n",
    "\n",
    "Then, the output should be:\n",
    "\n",
    "again and hello makes perfect practice world\n",
    "\n",
    "#### Hints:\n",
    "\n",
    "We use set container to remove duplicated data automatically and then use sorted() to sort the\n",
    "data."
   ]
  },
  {
   "cell_type": "markdown",
   "metadata": {},
   "source": [
    "### Version 1"
   ]
  },
  {
   "cell_type": "code",
   "execution_count": 19,
   "metadata": {},
   "outputs": [
    {
     "name": "stdout",
     "output_type": "stream",
     "text": [
      "Enter a sentence seperated by whitespaces : hello world and practice makes perfect and hello world again\n",
      "\n",
      "The output after removing duplicate words and sorting them alphanumerically is : \n",
      " again and hello makes perfect practice world\n"
     ]
    }
   ],
   "source": [
    "sequencial_sentence = input(\"Enter a sentence seperated by whitespaces : \")                 # input sequence of words \n",
    "sequencial_sentence_spilt = sequencial_sentence.split(' ')                                  # split the words based on whitespaces \n",
    "seq_set = set(sequencial_sentence_spilt)                                                    # arrange them alphanumerically\n",
    "print('\\nThe output after removing duplicate words and sorting them alphanumerically is : \\n',' '.join(sorted(seq_set)))    # display the arranged sentence"
   ]
  },
  {
   "cell_type": "markdown",
   "metadata": {},
   "source": [
    "### Version 2"
   ]
  },
  {
   "cell_type": "code",
   "execution_count": 23,
   "metadata": {},
   "outputs": [
    {
     "name": "stdout",
     "output_type": "stream",
     "text": [
      "Enter a sentence seperated by whitespaces : hello world and practice makes perfect and hello world again\n",
      "\n",
      "The output after removing duplicate words and sorting them alphanumerically is : \n",
      " again and hello makes perfect practice world\n"
     ]
    }
   ],
   "source": [
    "seq = input(\"Enter a sentence seperated by whitespaces : \")    # input sequence of words           \n",
    "words = [word for word in seq.split(\" \")]                      # split the words based on whitespaces \n",
    "print('\\nThe output after removing duplicate words and sorting them alphanumerically is : \\n',\" \".join(sorted(list(set(words)))))     # arrange them alphanumerically and display the output "
   ]
  },
  {
   "cell_type": "markdown",
   "metadata": {},
   "source": [
    "## Question 5"
   ]
  },
  {
   "cell_type": "markdown",
   "metadata": {},
   "source": [
    "Write a program which accepts a sequence of comma separated 4 digit binary numbers as its\n",
    "input and then check whether they are divisible by 5 or not. The numbers that are divisible by 5\n",
    "are to be printed in a comma separated sequence.\n",
    "\n",
    "#### Example:\n",
    "\n",
    "0100,0011,1010,1001\n",
    "\n",
    "Then the output should be:\n",
    "\n",
    "1010"
   ]
  },
  {
   "cell_type": "markdown",
   "metadata": {},
   "source": [
    "### Version 1"
   ]
  },
  {
   "cell_type": "code",
   "execution_count": 4,
   "metadata": {},
   "outputs": [
    {
     "name": "stdout",
     "output_type": "stream",
     "text": [
      "0100,0011,1010,1001\n",
      "1010\n"
     ]
    }
   ],
   "source": [
    "bi_num = [i for i in input().split(',')]                       # input sequence and split at ','\n",
    "out_seq = []                                                   # create empty array  \n",
    "\n",
    "for j in bi_num:                                               # iterate through total number of input\n",
    "    i = int(j,2) \n",
    "    if i%5 == 0:                                               # check if divisible by 5  \n",
    "        out_seq.append(j)                                      # append if divisible by 5  \n",
    "print(','.join(out_seq))                                       # join the numbers and display"
   ]
  },
  {
   "cell_type": "markdown",
   "metadata": {},
   "source": [
    "### Version 2"
   ]
  },
  {
   "cell_type": "code",
   "execution_count": 10,
   "metadata": {},
   "outputs": [
    {
     "name": "stdout",
     "output_type": "stream",
     "text": [
      "0100,0011,1010,1001\n",
      "1010\n"
     ]
    }
   ],
   "source": [
    "out_value = []                                                  # create empty array\n",
    "items=[i for i in input().split(',')]                           # input sequence and split at ','\n",
    "\n",
    "for j in items:                                                 # iterate through total number of input\n",
    "    i = int(j, 2)\n",
    "    if not i%5:                                                 # check if divisible by 5\n",
    "        out_value.append(j)                                     # append if divisible by 5\n",
    "\n",
    "print(','.join(out_value))                                      # join the numbers and display "
   ]
  },
  {
   "cell_type": "markdown",
   "metadata": {},
   "source": [
    "## Question 6"
   ]
  },
  {
   "cell_type": "markdown",
   "metadata": {},
   "source": [
    "Write a program, which will find all such numbers between 1000 and 3000 (both included) such\n",
    "that each digit of the number is an even number.\n",
    "\n",
    "The numbers obtained should be printed in a comma-separated sequence on a single line."
   ]
  },
  {
   "cell_type": "markdown",
   "metadata": {},
   "source": [
    "### Version 1"
   ]
  },
  {
   "cell_type": "code",
   "execution_count": 52,
   "metadata": {},
   "outputs": [],
   "source": [
    "def even(a,z):                                             # define function even accepting start and end number \n",
    "    \n",
    "    sequence = []                                          # create empty array  \n",
    "    \n",
    "    for num in range(a,z):                                 # iterate through the total number \n",
    "        is_even = True                                     # default as true\n",
    "        total = str(num)                                   # make the total number as str\n",
    "        \n",
    "        for i in total:                                    # iterate through total number\n",
    "            if int(i) % 2 != 0:                            # check if every digit is divisible by 2 \n",
    "                is_even = False\n",
    "        if is_even == True:\n",
    "            sequence.append(str(num))                      # append if every number is divisible by 2\n",
    "    return(sequence)                                       # return the array "
   ]
  },
  {
   "cell_type": "code",
   "execution_count": 53,
   "metadata": {},
   "outputs": [
    {
     "name": "stdout",
     "output_type": "stream",
     "text": [
      "the sequence is : \n",
      "\n",
      " 2000,2002,2004,2006,2008,2020,2022,2024,2026,2028,2040,2042,2044,2046,2048,2060,2062,2064,2066,2068,2080,2082,2084,2086,2088,2200,2202,2204,2206,2208,2220,2222,2224,2226,2228,2240,2242,2244,2246,2248,2260,2262,2264,2266,2268,2280,2282,2284,2286,2288,2400,2402,2404,2406,2408,2420,2422,2424,2426,2428,2440,2442,2444,2446,2448,2460,2462,2464,2466,2468,2480,2482,2484,2486,2488,2600,2602,2604,2606,2608,2620,2622,2624,2626,2628,2640,2642,2644,2646,2648,2660,2662,2664,2666,2668,2680,2682,2684,2686,2688,2800,2802,2804,2806,2808,2820,2822,2824,2826,2828,2840,2842,2844,2846,2848,2860,2862,2864,2866,2868,2880,2882,2884,2886,2888 \n"
     ]
    }
   ],
   "source": [
    "print(\"the sequence is : \\n\\n {} \".format(\",\".join(even(1000,3001))))     # display array after passing through function"
   ]
  },
  {
   "cell_type": "markdown",
   "metadata": {},
   "source": [
    "### Version 2"
   ]
  },
  {
   "cell_type": "code",
   "execution_count": 56,
   "metadata": {},
   "outputs": [
    {
     "name": "stdout",
     "output_type": "stream",
     "text": [
      "the sequence is : \n",
      "\n",
      "  2000,2002,2004,2006,2008,2020,2022,2024,2026,2028,2040,2042,2044,2046,2048,2060,2062,2064,2066,2068,2080,2082,2084,2086,2088,2200,2202,2204,2206,2208,2220,2222,2224,2226,2228,2240,2242,2244,2246,2248,2260,2262,2264,2266,2268,2280,2282,2284,2286,2288,2400,2402,2404,2406,2408,2420,2422,2424,2426,2428,2440,2442,2444,2446,2448,2460,2462,2464,2466,2468,2480,2482,2484,2486,2488,2600,2602,2604,2606,2608,2620,2622,2624,2626,2628,2640,2642,2644,2646,2648,2660,2662,2664,2666,2668,2680,2682,2684,2686,2688,2800,2802,2804,2806,2808,2820,2822,2824,2826,2828,2840,2842,2844,2846,2848,2860,2862,2864,2866,2868,2880,2882,2884,2886,2888\n"
     ]
    }
   ],
   "source": [
    "seq = []                                                     # create empty array \n",
    "\n",
    "for i in range(1000, 3001):                                  # iterate through the total number\n",
    "    ev = str(i)\n",
    "    if (int(ev[0])%2==0) and (int(ev[1])%2==0) and (int(ev[2])%2==0) and (int(ev[3])%2==0):          # check if every digit is divisible by 2\n",
    "        seq.append(ev)                                       # append if every number is divisible by 2 \n",
    "        \n",
    "print(\"the sequence is : \\n\\n \",\",\".join(seq))               # return the array  "
   ]
  },
  {
   "cell_type": "markdown",
   "metadata": {},
   "source": [
    "## Question 7"
   ]
  },
  {
   "cell_type": "markdown",
   "metadata": {},
   "source": [
    "Write a program that accepts a sentence and calculate the number of letters and digits.\n",
    "\n",
    "Suppose the following input is supplied to the program:\n",
    "\n",
    "hello world! 123\n",
    "\n",
    "Then, the output should be:\n",
    "\n",
    "LETTERS 10\n",
    "\n",
    "DIGITS 3"
   ]
  },
  {
   "cell_type": "markdown",
   "metadata": {},
   "source": [
    "### Version 1"
   ]
  },
  {
   "cell_type": "code",
   "execution_count": 9,
   "metadata": {},
   "outputs": [
    {
     "name": "stdout",
     "output_type": "stream",
     "text": [
      " Input a string : hello world! 123\n",
      "The number of letters are : 10\n",
      "The number of digits are  : 3\n"
     ]
    }
   ],
   "source": [
    "string_in = input(\" Input a string : \")                          # input sentence\n",
    "\n",
    "digit = 0                                                        # assign digit variable to 0\n",
    "letter = 0                                                       # assign letter variable to 0\n",
    "\n",
    "for i in string_in:                                              # iterate total numeber of charecters \n",
    "    if i.isalpha():                                              # check if charecter is an alphabet\n",
    "        letter += 1                                              # increase letter count by 1\n",
    "    elif i.isdigit():                                            # check if charecter is an digit\n",
    "        digit += 1                                               # increase digit count by 1 \n",
    "    else:\n",
    "        pass\n",
    "\n",
    "print(\"The number of letters are : {}\".format(letter))           # display total number of letter\n",
    "print(\"The number of digits are  : {}\".format(digit))            # display taoal number of digit"
   ]
  },
  {
   "cell_type": "markdown",
   "metadata": {},
   "source": [
    "### Version 2"
   ]
  },
  {
   "cell_type": "code",
   "execution_count": 10,
   "metadata": {},
   "outputs": [
    {
     "name": "stdout",
     "output_type": "stream",
     "text": [
      " Input a string : hello world! 123\n",
      "LETTERS 10\n",
      "DIGITS 3\n"
     ]
    }
   ],
   "source": [
    "string_in = input(\" Input a string : \")                          # input sentence\n",
    "\n",
    "d = {\"DIGITS\":0, \"LETTERS\":0}                                    # assign digit and letter variable to 0\n",
    "for i in string_in:                                              # iterate total numeber of charecters  \n",
    "    if i.isdigit():                                              # check if charecter is an digit\n",
    "        d[\"DIGITS\"]+=1                                           # increase digit count by 1  \n",
    "    elif i.isalpha():                                            # check if charecter is an alphabet\n",
    "        d[\"LETTERS\"]+=1                                          # increase letter count by 1\n",
    "    else:\n",
    "        pass\n",
    "print(\"LETTERS\", d[\"LETTERS\"])                                   # display total number of letter\n",
    "print(\"DIGITS\", d[\"DIGITS\"])                                     # display taoal number of digit"
   ]
  },
  {
   "cell_type": "markdown",
   "metadata": {},
   "source": [
    "## Question 8"
   ]
  },
  {
   "cell_type": "markdown",
   "metadata": {},
   "source": [
    "Write a program that computes the value of a+aa+aaa+aaaa with a given digit as the value of a.\n",
    "\n",
    "Suppose the following input is supplied to the program:\n",
    "\n",
    "9\n",
    "\n",
    "Then, the output should be:\n",
    "\n",
    "11106"
   ]
  },
  {
   "cell_type": "markdown",
   "metadata": {},
   "source": [
    "### Version 1"
   ]
  },
  {
   "cell_type": "code",
   "execution_count": 17,
   "metadata": {},
   "outputs": [
    {
     "name": "stdout",
     "output_type": "stream",
     "text": [
      "enter the digit : 9\n",
      "the sum value of digti is : 11106 \n"
     ]
    }
   ],
   "source": [
    "number = input(\"enter the digit : \")                             # input digit\n",
    "\n",
    "p1 = int( \"%s\" % number )                                        \n",
    "p2 = int( \"%s%s\" % (number,number) )\n",
    "p3 = int( \"%s%s%s\" % (number,number,number) )\n",
    "p4 = int( \"%s%s%s%s\" % (number,number,number,number) )\n",
    "\n",
    "sum_of_all = p1 + p2 + p3 + p4                                   # add all value \n",
    "\n",
    "print(\"the sum value of digti is : {} \".format(sum_of_all))      # display result"
   ]
  },
  {
   "cell_type": "markdown",
   "metadata": {},
   "source": [
    "### Version 2"
   ]
  },
  {
   "cell_type": "code",
   "execution_count": 24,
   "metadata": {},
   "outputs": [
    {
     "name": "stdout",
     "output_type": "stream",
     "text": [
      "enter number :9\n",
      "the sum value of digti is : 11106 \n"
     ]
    }
   ],
   "source": [
    "number = input(\"enter number :\")                                 # input digit\n",
    "DIGIT = 4\n",
    "res = 0\n",
    "for i in range(1,DIGIT+1):                                       # add all value\n",
    "    res += int(str(number)*i)                                    # mult and add \n",
    "print(\"the sum value of digti is : {} \".format(res))             # display result"
   ]
  },
  {
   "cell_type": "markdown",
   "metadata": {},
   "source": [
    "## Question 9"
   ]
  },
  {
   "cell_type": "markdown",
   "metadata": {},
   "source": [
    "Write a program that computes the net amount of a bank account based a transaction log from\n",
    "console input. The transaction log format is shown as following:\n",
    "\n",
    "D 100\n",
    "\n",
    "W 200\n",
    "\n",
    "...\n",
    "\n",
    "D means deposit while W means withdrawal.\n",
    "\n",
    "Suppose the following input is supplied to the program:\n",
    "\n",
    "D 300\n",
    "\n",
    "D 300\n",
    "\n",
    "W 200\n",
    "\n",
    "D 100\n",
    "\n",
    "Then, the output should be:\n",
    "\n",
    "500"
   ]
  },
  {
   "cell_type": "markdown",
   "metadata": {},
   "source": [
    "### Version 1"
   ]
  },
  {
   "cell_type": "code",
   "execution_count": 17,
   "metadata": {},
   "outputs": [
    {
     "name": "stdout",
     "output_type": "stream",
     "text": [
      "--> D 300\n",
      "--> D 300\n",
      "--> W 200\n",
      "--> D 100\n",
      "--> \n",
      "The net amount is : 500 \n"
     ]
    }
   ],
   "source": [
    "net_transaction = 0                                                # set initial amount to 0\n",
    "\n",
    "while True:                                                        # keep checking for input \n",
    "    input_trans = input(\"--> \").split()                            # input value and split      \n",
    "    if not input_trans:\n",
    "        break;                                                     # break if there is no input\n",
    "\n",
    "    net_amount = int(input_trans[1])                               \n",
    "    if input_trans[0] == 'D':                                      # check if the initial char starts with D for Deposit\n",
    "        net_transaction += net_amount                              # add it to the net amount\n",
    "    elif input_trans[0] == 'W':                                    # check if the initial char starts with W for Withdrawal\n",
    "        net_transaction -= net_amount                              # deduct it from the net amount \n",
    "\n",
    "print(\"The net amount is : {} \".format(net_transaction))           # display the remaining amount"
   ]
  },
  {
   "cell_type": "markdown",
   "metadata": {},
   "source": [
    "### Version 2"
   ]
  },
  {
   "cell_type": "code",
   "execution_count": 23,
   "metadata": {},
   "outputs": [
    {
     "name": "stdout",
     "output_type": "stream",
     "text": [
      "--> D 300\n",
      "--> D 300\n",
      "--> W 200\n",
      "--> D 100\n",
      "--> \n",
      "The net amount is : 500 \n"
     ]
    }
   ],
   "source": [
    "net_amount = 0                                                      # set initial amount to 0  \n",
    "\n",
    "while True:                                                         # keep checking for input\n",
    "    s = input(\"--> \")                                               # input value and split\n",
    "    if not s:\n",
    "        break                                                       # break if there is no input\n",
    "    values = s.split(\" \")                                            \n",
    "    operation = values[0]\n",
    "    amount = int(values[1])\n",
    "    if operation==\"D\":                                              # check if the initial char starts with D for Deposit\n",
    "        net_amount+=amount                                          # add it to the net amount\n",
    "    elif operation==\"W\":                                            # check if the initial char starts with W for Withdrawal\n",
    "        net_amount-=amount                                          # deduct it from the net amount          \n",
    "    else:\n",
    "        pass\n",
    "print(\"The net amount is : {} \".format(net_amount))                 # display the remaining amount "
   ]
  },
  {
   "cell_type": "markdown",
   "metadata": {},
   "source": [
    "## Question 10"
   ]
  },
  {
   "cell_type": "markdown",
   "metadata": {},
   "source": [
    "Write a program to compute:\n",
    "\n",
    "f(n)=f(n-1)+100 when n>0\n",
    "\n",
    "and f(0)=1\n",
    "\n",
    "with a given n input by console (n>0)."
   ]
  },
  {
   "cell_type": "markdown",
   "metadata": {},
   "source": [
    "### version 1"
   ]
  },
  {
   "cell_type": "code",
   "execution_count": 8,
   "metadata": {},
   "outputs": [],
   "source": [
    "def f(n):                                                         # define function to accept a digit\n",
    "    if n == 0:\n",
    "        return 1                                                  # return 1 if number = 0 \n",
    "    else:\n",
    "        return f(n-1)+100                                         # perform recursive function and return value"
   ]
  },
  {
   "cell_type": "code",
   "execution_count": 38,
   "metadata": {},
   "outputs": [
    {
     "name": "stdout",
     "output_type": "stream",
     "text": [
      "enter number : 3\n",
      "f(3) = 301\n"
     ]
    }
   ],
   "source": [
    "input_n = int(input(\"enter number : \"))                           # input digit/value\n",
    "print(\"f({0}) = {1}\".format((input_n), f(input_n)))               # display the computed value"
   ]
  },
  {
   "cell_type": "code",
   "execution_count": 37,
   "metadata": {},
   "outputs": [
    {
     "name": "stdout",
     "output_type": "stream",
     "text": [
      "enter number : 3\n",
      "f(3) = 301\n"
     ]
    }
   ],
   "source": [
    "def f2(n):\n",
    "    ans = 0\n",
    "    if n == 0:\n",
    "        return 1\n",
    "    else:\n",
    "        return f2(n-1)+100\n",
    "\n",
    "\n",
    "input_n = int(input(\"enter number : \"))\n",
    "\n",
    "print(\"f({0}) = {1}\".format((input_n), f2(input_n)))"
   ]
  },
  {
   "cell_type": "markdown",
   "metadata": {},
   "source": [
    "## Question 11"
   ]
  },
  {
   "cell_type": "markdown",
   "metadata": {},
   "source": [
    "Segment the following short text into sentences and words:\n",
    "\n",
    "s = u\"\"\"DTU course 02820 is taught by Mr. Bartlomiej Wilkowski,\n",
    "Mr. Marcin Marek Szewczyk & Finn Arup Nielsen, Ph.D. Some of aspects\n",
    "of the course are: machine learning and web 2.0. The telephone to Finn\n",
    "is (+45) 4525 3921, and his email is fn@imm.dtu.dk. A book\n",
    "published by O’Reilly called ’Programming Collective\n",
    "Intelligence’ might be useful. It costs $39.99 or 285.00 kroner in\n",
    "Polyteknisk Boghandle. Is ’Text Processing in Python’ appropriate for\n",
    "the course? Perhaps! The constructor function in Python is called\n",
    "\"__init__()\". fMRI will not be a topic of the course.\"\"\"\n",
    "\n",
    "Try both with the re module as well as with a function from nltk."
   ]
  },
  {
   "cell_type": "markdown",
   "metadata": {},
   "source": [
    "### Version 1"
   ]
  },
  {
   "cell_type": "code",
   "execution_count": 18,
   "metadata": {},
   "outputs": [
    {
     "name": "stdout",
     "output_type": "stream",
     "text": [
      "Enter the sentence : u\"\"\"DTU course 02820 is taught by Mr. Bartlomiej Wilkowski, Mr. Marcin Marek Szewczyk & Finn Arup Nielsen, Ph.D. Some of aspects of the course are: machine learning and web 2.0. The telephone to Finn is (+45) 4525 3921, and his email is fn@imm.dtu.dk. A book published by O’Reilly called ’Programming Collective Intelligence’ might be useful. It costs $39.99 or 285.00 kroner in Polyteknisk Boghandle. Is ’Text Processing in Python’ appropriate for the course? Perhaps! The constructor function in Python is called \"__init__()\". fMRI will not be a topic of the course.\"\"\"\n",
      "[('u', 'NN'), (\"''\", \"''\"), (\"''\", \"''\"), (\"''\", \"''\"), ('DTU', 'NNP'), ('course', 'NN'), ('02820', 'CD'), ('is', 'VBZ'), ('taught', 'VBN'), ('by', 'IN'), ('Mr.', 'NNP'), ('Bartlomiej', 'NNP'), ('Wilkowski', 'NNP'), (',', ','), ('Mr.', 'NNP'), ('Marcin', 'NNP'), ('Marek', 'NNP'), ('Szewczyk', 'NNP'), ('&', 'CC'), ('Finn', 'NNP'), ('Arup', 'NNP'), ('Nielsen', 'NNP'), (',', ','), ('Ph.D', 'NNP'), ('.', '.')]\n",
      "[('Some', 'DT'), ('of', 'IN'), ('aspects', 'NNS'), ('of', 'IN'), ('the', 'DT'), ('course', 'NN'), ('are', 'VBP'), (':', ':'), ('machine', 'NN'), ('learning', 'NN'), ('and', 'CC'), ('web', '$'), ('2.0', 'CD'), ('.', '.')]\n",
      "[('The', 'DT'), ('telephone', 'NN'), ('to', 'TO'), ('Finn', 'NNP'), ('is', 'VBZ'), ('(', '('), ('+45', 'NN'), (')', ')'), ('4525', 'CD'), ('3921', 'CD'), (',', ','), ('and', 'CC'), ('his', 'PRP$'), ('email', 'NN'), ('is', 'VBZ'), ('fn', 'JJ'), ('@', 'NNP'), ('imm.dtu.dk', 'NN'), ('.', '.')]\n",
      "[('A', 'DT'), ('book', 'NN'), ('published', 'VBN'), ('by', 'IN'), ('O', 'NNP'), ('’', 'NNP'), ('Reilly', 'NNP'), ('called', 'VBD'), ('’', 'RP'), ('Programming', 'NNP'), ('Collective', 'NNP'), ('Intelligence', 'NNP'), ('’', 'NNP'), ('might', 'MD'), ('be', 'VB'), ('useful', 'JJ'), ('.', '.')]\n",
      "[('It', 'PRP'), ('costs', 'VBZ'), ('$', '$'), ('39.99', 'CD'), ('or', 'CC'), ('285.00', 'CD'), ('kroner', 'NN'), ('in', 'IN'), ('Polyteknisk', 'NNP'), ('Boghandle', 'NNP'), ('.', '.')]\n",
      "[('Is', 'VBZ'), ('’', 'JJ'), ('Text', 'NNP'), ('Processing', 'NNP'), ('in', 'IN'), ('Python', 'NNP'), ('’', 'NNP'), ('appropriate', 'NN'), ('for', 'IN'), ('the', 'DT'), ('course', 'NN'), ('?', '.')]\n",
      "[('Perhaps', 'RB'), ('!', '.')]\n",
      "[('The', 'DT'), ('constructor', 'NN'), ('function', 'NN'), ('in', 'IN'), ('Python', 'NNP'), ('is', 'VBZ'), ('called', 'VBN'), ('``', '``'), ('__init__', 'NNP'), ('(', '('), (')', ')'), (\"''\", \"''\"), ('.', '.')]\n",
      "[('fMRI', 'NN'), ('will', 'MD'), ('not', 'RB'), ('be', 'VB'), ('a', 'DT'), ('topic', 'NN'), ('of', 'IN'), ('the', 'DT'), ('course', 'NN'), ('.', '.'), (\"''\", \"''\"), (\"''\", \"''\"), (\"''\", \"''\")]\n"
     ]
    }
   ],
   "source": [
    "import nltk                                                         # import nltk library\n",
    "\n",
    "text = input(\"Enter the sentence : \")                               # input the sentence \n",
    "\n",
    "sent_text = nltk.sent_tokenize(text)                                # this gives us a list of sentences\n",
    "\n",
    "for sentence in sent_text:                                          # now loop over each sentence and tokenize it separately\n",
    "    tokenized_text = nltk.word_tokenize(sentence)\n",
    "    tagged = nltk.pos_tag(tokenized_text)\n",
    "    print(tagged)                                                   # print the parsed sentence"
   ]
  },
  {
   "cell_type": "markdown",
   "metadata": {},
   "source": [
    "### Version 2"
   ]
  },
  {
   "cell_type": "code",
   "execution_count": 19,
   "metadata": {},
   "outputs": [
    {
     "name": "stdout",
     "output_type": "stream",
     "text": [
      "Enter the sentence : u\"\"\"DTU course 02820 is taught by Mr. Bartlomiej Wilkowski, Mr. Marcin Marek Szewczyk & Finn Arup Nielsen, Ph.D. Some of aspects of the course are: machine learning and web 2.0. The telephone to Finn is (+45) 4525 3921, and his email is fn@imm.dtu.dk. A book published by O’Reilly called ’Programming Collective Intelligence’ might be useful. It costs $39.99 or 285.00 kroner in Polyteknisk Boghandle. Is ’Text Processing in Python’ appropriate for the course? Perhaps! The constructor function in Python is called \"__init__()\". fMRI will not be a topic of the course.\"\"\"\n",
      "the parsed sentence is : \n",
      "u\"\"\"DTU course 02820 is taught by Mr.\n",
      "Bartlomiej Wilkowski, Mr.\n",
      "Marcin Marek Szewczyk & Finn Arup Nielsen, Ph.D. Some of aspects of the course are: machine learning and web 2.0. The telephone to Finn is (+45) 4525 3921, and his email is fn@imm.dtu.dk.\n",
      "A book published by O’Reilly called ’Programming Collective Intelligence’ might be useful.\n",
      "It costs $39.99 or 285.00 kroner in Polyteknisk Boghandle.\n",
      "Is ’Text Processing in Python’ appropriate for the course?\n",
      "Perhaps! The constructor function in Python is called \"__init__()\".\n",
      "fMRI will not be a topic of the course.\"\"\"\n"
     ]
    }
   ],
   "source": [
    "import re                                                             # import re library\n",
    "\n",
    "sentence = input(\"Enter the sentence : \")                             # input the sentence \n",
    "sentences = re.split(r'(?<!\\w\\.\\w.)(?<![A-Z][a-z][0-9]\\.)(?<=\\.|\\?)\\s', sentence)    # split sentence using all charecter maekers and breakers\n",
    "\n",
    "print(\"the parsed sentence is : \")                                    # iterate through all words and print the parsed sentence  \n",
    "for i in sentences:\n",
    "        print(i)"
   ]
  },
  {
   "cell_type": "code",
   "execution_count": 10,
   "metadata": {},
   "outputs": [
    {
     "name": "stdout",
     "output_type": "stream",
     "text": [
      "this is a sentaence. it, now deleted by 0\n",
      "[['this', 'is', 'a', 'sentaence', '.'], ['it', ',', 'now', 'deleted', 'by', '0']]\n"
     ]
    }
   ],
   "source": [
    "# from nltk.tokenize import TweetTokenizer, sent_tokenize\n",
    "\n",
    "# input_text = input()\n",
    "\n",
    "# tokenizer_words = TweetTokenizer()\n",
    "# tokens_sentences = [tokenizer_words.tokenize(t) for t in nltk.sent_tokenize(input_text)]\n",
    "# print(tokens_sentences)"
   ]
  },
  {
   "cell_type": "code",
   "execution_count": 9,
   "metadata": {},
   "outputs": [
    {
     "name": "stdout",
     "output_type": "stream",
     "text": [
      "['this is a sentaence.', 'it, now deleted by 0']\n"
     ]
    }
   ],
   "source": [
    "# from nltk.tokenize import sent_tokenize\n",
    "\n",
    "# string = \"this is a sentaence. it, now deleted by 0\"\n",
    "\n",
    "# sent_tokenize_list = sent_tokenize(string)\n",
    "# print(sent_tokenize_list)"
   ]
  },
  {
   "cell_type": "markdown",
   "metadata": {},
   "source": [
    "## Question 12 - 16*"
   ]
  },
  {
   "cell_type": "markdown",
   "metadata": {},
   "source": [
    "Project Euler is a website with mathematical problems that should/could be solved by\n",
    "computers. Go to https://projecteuler.net/archives and solve any 4 problems using Python.\n",
    "\n",
    "As an example the problem number 16 can be solved in one line of Python:\n",
    "\n",
    "sum(map(int, list(str(2**1000))))\n",
    "\n",
    "1366"
   ]
  },
  {
   "cell_type": "markdown",
   "metadata": {},
   "source": [
    "### Problem 1\n",
    "\n",
    "\n",
    "\n",
    "If we list all the natural numbers below 10 that are multiples of 3 or 5, we get 3, 5, 6 and 9. The sum of these multiples is 23.\n",
    "\n",
    "Find the sum of all the multiples of 3 or 5 below 1000.\n"
   ]
  },
  {
   "cell_type": "code",
   "execution_count": 11,
   "metadata": {},
   "outputs": [],
   "source": [
    "def naturalNumbersMult():                                       # define function\n",
    "    sum1 = 0                                                    # set variable to 0\n",
    "    for i in range(1,1000):                                     # iteate from pre defined numbers\n",
    "        if i%3 == 0 or i%5 == 0:                                # check if divisible by 3 or 5\n",
    "            sum1 += i                                           # if it is then add it to sum\n",
    "    return sum1                                                 # return the result "
   ]
  },
  {
   "cell_type": "code",
   "execution_count": 12,
   "metadata": {},
   "outputs": [
    {
     "name": "stdout",
     "output_type": "stream",
     "text": [
      "233168\n"
     ]
    }
   ],
   "source": [
    "print(naturalNumbersMult())                                     # display result"
   ]
  },
  {
   "cell_type": "markdown",
   "metadata": {},
   "source": [
    "### Problem 2"
   ]
  },
  {
   "cell_type": "markdown",
   "metadata": {},
   "source": [
    "Each new term in the Fibonacci sequence is generated by adding the previous two terms. By starting with 1 and 2, the first 10 terms will be:\n",
    "\n",
    "1, 2, 3, 5, 8, 13, 21, 34, 55, 89, ...\n",
    "\n",
    "By considering the terms in the Fibonacci sequence whose values do not exceed four million, find the sum of the even-valued terms.\n"
   ]
  },
  {
   "cell_type": "code",
   "execution_count": 16,
   "metadata": {},
   "outputs": [],
   "source": [
    "def evenFib():                                                  # define function                   \n",
    "    fib_list = [1,2]                                            # define array \n",
    "    i = 1\n",
    "    sum1 = 2\n",
    "    while True:                                                 # run forever till stopped \n",
    "        fib_list.append(fib_list[i-1] + fib_list[i])\n",
    "        if fib_list[i+1] > 4000000:                             # check condition \n",
    "            break                                               # break loop\n",
    "        if fib_list[i+1]%2 == 0:                                # check if digit divisible by 0\n",
    "            sum1 += fib_list[i+1]                               # add to sum if divisible\n",
    "        i +=1                                                    \n",
    "    return (fib_list, sum1)                                     # return result"
   ]
  },
  {
   "cell_type": "code",
   "execution_count": 23,
   "metadata": {},
   "outputs": [
    {
     "name": "stdout",
     "output_type": "stream",
     "text": [
      "the terms of the fib list are : \n",
      " [1, 2, 3, 5, 8, 13, 21, 34, 55, 89, 144, 233, 377, 610, 987, 1597, 2584, 4181, 6765, 10946, 17711, 28657, 46368, 75025, 121393, 196418, 317811, 514229, 832040, 1346269, 2178309, 3524578, 5702887] \n",
      "\n",
      "the sum of even valued terms : 4613732\n"
     ]
    }
   ],
   "source": [
    "print(\"the terms of the fib list are : \\n {} \".format(evenFib()[0]))     # display all the terms \n",
    "print(\"\\nthe sum of even valued terms : {}\".format(evenFib()[1]))        # display the total result "
   ]
  },
  {
   "cell_type": "markdown",
   "metadata": {},
   "source": [
    "### Problem 3"
   ]
  },
  {
   "cell_type": "markdown",
   "metadata": {},
   "source": [
    "\n",
    "\n",
    "The prime factors of 13195 are 5, 7, 13 and 29.\n",
    "\n",
    "What is the largest prime factor of the number 600851475143 ?"
   ]
  },
  {
   "cell_type": "code",
   "execution_count": 2,
   "metadata": {},
   "outputs": [],
   "source": [
    "import math                                                       # import library"
   ]
  },
  {
   "cell_type": "code",
   "execution_count": 3,
   "metadata": {},
   "outputs": [],
   "source": [
    "def isPrimeNumber(n):                                             # define function and check conditoins\n",
    "    if n <= 1:\n",
    "        return False\n",
    "    elif n <= 3:\n",
    "        return True\n",
    "    elif n % 2 == 0 or n % 3 == 0:\n",
    "        return False\n",
    "    i = 5\n",
    "    while i*i <= n:\n",
    "        if n%i==0 or n%(i+2)==0:                     \n",
    "            return False\n",
    "        i +=6\n",
    "    return True                                                   # return respective conditon"
   ]
  },
  {
   "cell_type": "code",
   "execution_count": 4,
   "metadata": {},
   "outputs": [],
   "source": [
    "def largestPrimeFactor(n):                                        # define function\n",
    "    largest_prime = 0                                             # set varibale to 0\n",
    "    for i in range(1,int(math.sqrt(n))-1):                        # iterate the provided number(sqrt)\n",
    "        if isPrimeNumber(i) and n%i==0:                           # check if the number is prime using defined function\n",
    "            largest_prime = i\n",
    "    return largest_prime                                          # return result"
   ]
  },
  {
   "cell_type": "code",
   "execution_count": 6,
   "metadata": {},
   "outputs": [
    {
     "name": "stdout",
     "output_type": "stream",
     "text": [
      "6857\n"
     ]
    }
   ],
   "source": [
    "print(largestPrimeFactor(600851475143))                           # display result"
   ]
  },
  {
   "cell_type": "markdown",
   "metadata": {},
   "source": [
    "### Problem 4"
   ]
  },
  {
   "cell_type": "markdown",
   "metadata": {},
   "source": [
    "\n",
    "\n",
    "A palindromic number reads the same both ways. The largest palindrome made from the product of two 2-digit numbers is 9009 = 91 × 99.\n",
    "\n",
    "Find the largest palindrome made from the product of two 3-digit numbers.\n"
   ]
  },
  {
   "cell_type": "code",
   "execution_count": 50,
   "metadata": {},
   "outputs": [],
   "source": [
    "def isPalindrome(n):                                               # define function   \n",
    "    if str(n)==str(n)[::-1]:                                       # check if string is a palandrome\n",
    "        return True                                                # return true is palandrome  \n",
    "    else:\n",
    "        return False"
   ]
  },
  {
   "cell_type": "code",
   "execution_count": 55,
   "metadata": {},
   "outputs": [],
   "source": [
    "def largestProductPalindrome():                                    # define function \n",
    "    max_product = 0                                                # set variable to 0 \n",
    "    for i in range(100,1000):                                      # iterate through provided range\n",
    "        for j in range(100,1000):\n",
    "            product = i * j\n",
    "            if product > max_product and isPalindrome(product):    # check if palandrome using defined function  \n",
    "                max_product = product                              # update if value is greater \n",
    "    return max_product                                             # return result "
   ]
  },
  {
   "cell_type": "code",
   "execution_count": 56,
   "metadata": {},
   "outputs": [
    {
     "name": "stdout",
     "output_type": "stream",
     "text": [
      "906609\n"
     ]
    }
   ],
   "source": [
    "print(largestProductPalindrome())                                  # display result"
   ]
  }
 ],
 "metadata": {
  "kernelspec": {
   "display_name": "Python 3",
   "language": "python",
   "name": "python3"
  },
  "language_info": {
   "codemirror_mode": {
    "name": "ipython",
    "version": 3
   },
   "file_extension": ".py",
   "mimetype": "text/x-python",
   "name": "python",
   "nbconvert_exporter": "python",
   "pygments_lexer": "ipython3",
   "version": "3.5.5"
  }
 },
 "nbformat": 4,
 "nbformat_minor": 2
}
