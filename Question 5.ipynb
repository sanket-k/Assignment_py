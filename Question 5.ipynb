{
 "cells": [
  {
   "cell_type": "markdown",
   "metadata": {},
   "source": [
    "### Question 5"
   ]
  },
  {
   "cell_type": "markdown",
   "metadata": {},
   "source": [
    "Write a program which accepts a sequence of comma separated 4 digit binary numbers as its\n",
    "input and then check whether they are divisible by 5 or not. The numbers that are divisible by 5\n",
    "are to be printed in a comma separated sequence.\n",
    "\n",
    "#### Example:\n",
    "\n",
    "0100,0011,1010,1001\n",
    "\n",
    "Then the output should be:\n",
    "\n",
    "1010"
   ]
  },
  {
   "cell_type": "markdown",
   "metadata": {},
   "source": [
    "### Version 1"
   ]
  },
  {
   "cell_type": "code",
   "execution_count": 4,
   "metadata": {},
   "outputs": [
    {
     "name": "stdout",
     "output_type": "stream",
     "text": [
      "0100,0011,1010,1001\n",
      "1010\n"
     ]
    }
   ],
   "source": [
    "bi_num = [i for i in input().split(',')]                       # input sequence and split at ','\n",
    "out_seq = []                                                   # create empty array  \n",
    "\n",
    "for j in bi_num:                                               # iterate through total number of input\n",
    "    i = int(j,2) \n",
    "    if i%5 == 0:                                               # check if divisible by 5  \n",
    "        out_seq.append(j)                                      # append if divisible by 5  \n",
    "print(','.join(out_seq))                                       # join the numbers and display"
   ]
  },
  {
   "cell_type": "markdown",
   "metadata": {},
   "source": [
    "### Version 2"
   ]
  },
  {
   "cell_type": "code",
   "execution_count": 10,
   "metadata": {},
   "outputs": [
    {
     "name": "stdout",
     "output_type": "stream",
     "text": [
      "0100,0011,1010,1001\n",
      "1010\n"
     ]
    }
   ],
   "source": [
    "out_value = []                                                  # create empty array\n",
    "items=[i for i in input().split(',')]                           # input sequence and split at ','\n",
    "\n",
    "for j in items:                                                 # iterate through total number of input\n",
    "    i = int(j, 2)\n",
    "    if not i%5:                                                 # check if divisible by 5\n",
    "        out_value.append(j)                                     # append if divisible by 5\n",
    "\n",
    "print(','.join(out_value))                                      # join the numbers and display "
   ]
  }
 ],
 "metadata": {
  "kernelspec": {
   "display_name": "Python 3",
   "language": "python",
   "name": "python3"
  },
  "language_info": {
   "codemirror_mode": {
    "name": "ipython",
    "version": 3
   },
   "file_extension": ".py",
   "mimetype": "text/x-python",
   "name": "python",
   "nbconvert_exporter": "python",
   "pygments_lexer": "ipython3",
   "version": "3.5.5"
  }
 },
 "nbformat": 4,
 "nbformat_minor": 2
}
