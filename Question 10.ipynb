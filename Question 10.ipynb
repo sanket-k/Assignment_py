{
 "cells": [
  {
   "cell_type": "markdown",
   "metadata": {},
   "source": [
    "### Question 10"
   ]
  },
  {
   "cell_type": "markdown",
   "metadata": {},
   "source": [
    "Write a program to compute:\n",
    "\n",
    "f(n)=f(n-1)+100 when n>0\n",
    "\n",
    "and f(0)=1\n",
    "\n",
    "with a given n input by console (n>0)."
   ]
  },
  {
   "cell_type": "markdown",
   "metadata": {},
   "source": [
    "### version 1"
   ]
  },
  {
   "cell_type": "code",
   "execution_count": 8,
   "metadata": {},
   "outputs": [],
   "source": [
    "def f(n):                                                         # define function to accept a digit\n",
    "    if n == 0:\n",
    "        return 1                                                  # return 1 if number = 0 \n",
    "    else:\n",
    "        return f(n-1)+100                                         # perform recursive function and return value"
   ]
  },
  {
   "cell_type": "code",
   "execution_count": 38,
   "metadata": {},
   "outputs": [
    {
     "name": "stdout",
     "output_type": "stream",
     "text": [
      "enter number : 3\n",
      "f(3) = 301\n"
     ]
    }
   ],
   "source": [
    "input_n = int(input(\"enter number : \"))                           # input digit/value\n",
    "print(\"f({0}) = {1}\".format((input_n), f(input_n)))               # display the computed value"
   ]
  },
  {
   "cell_type": "code",
   "execution_count": 37,
   "metadata": {},
   "outputs": [
    {
     "name": "stdout",
     "output_type": "stream",
     "text": [
      "enter number : 3\n",
      "f(3) = 301\n"
     ]
    }
   ],
   "source": [
    "def f2(n):\n",
    "    ans = 0\n",
    "    if n == 0:\n",
    "        return 1\n",
    "    else:\n",
    "        return f2(n-1)+100\n",
    "\n",
    "\n",
    "input_n = int(input(\"enter number : \"))\n",
    "\n",
    "print(\"f({0}) = {1}\".format((input_n), f2(input_n)))"
   ]
  }
 ],
 "metadata": {
  "kernelspec": {
   "display_name": "Python 3",
   "language": "python",
   "name": "python3"
  },
  "language_info": {
   "codemirror_mode": {
    "name": "ipython",
    "version": 3
   },
   "file_extension": ".py",
   "mimetype": "text/x-python",
   "name": "python",
   "nbconvert_exporter": "python",
   "pygments_lexer": "ipython3",
   "version": "3.5.5"
  }
 },
 "nbformat": 4,
 "nbformat_minor": 2
}
