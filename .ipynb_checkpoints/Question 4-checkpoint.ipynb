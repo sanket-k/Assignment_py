{
 "cells": [
  {
   "cell_type": "markdown",
   "metadata": {},
   "source": [
    "### Question 4"
   ]
  },
  {
   "cell_type": "markdown",
   "metadata": {},
   "source": [
    "Write a program that accepts a sequence of whitespace separated words as input and prints the\n",
    "words after removing all duplicate words and sorting them alphanumerically.\n",
    "\n",
    "Suppose the following input is supplied to the program:\n",
    "\n",
    "hello world and practice makes perfect and hello world again\n",
    "\n",
    "Then, the output should be:\n",
    "\n",
    "again and hello makes perfect practice world\n",
    "\n",
    "#### Hints:\n",
    "\n",
    "We use set container to remove duplicated data automatically and then use sorted() to sort the\n",
    "data."
   ]
  },
  {
   "cell_type": "markdown",
   "metadata": {},
   "source": [
    "### Version 1"
   ]
  },
  {
   "cell_type": "code",
   "execution_count": 19,
   "metadata": {},
   "outputs": [
    {
     "name": "stdout",
     "output_type": "stream",
     "text": [
      "Enter a sentence seperated by whitespaces : hello world and practice makes perfect and hello world again\n",
      "\n",
      "The output after removing duplicate words and sorting them alphanumerically is : \n",
      " again and hello makes perfect practice world\n"
     ]
    }
   ],
   "source": [
    "sequencial_sentence = input(\"Enter a sentence seperated by whitespaces : \")                 # input sequence of words \n",
    "sequencial_sentence_spilt = sequencial_sentence.split(' ')                                  # split the words based on whitespaces \n",
    "seq_set = set(sequencial_sentence_spilt)                                                    # arrange them alphanumerically\n",
    "print('\\nThe output after removing duplicate words and sorting them alphanumerically is : \\n',' '.join(sorted(seq_set)))    # display the arranged sentence"
   ]
  },
  {
   "cell_type": "markdown",
   "metadata": {},
   "source": [
    "### Version 2"
   ]
  },
  {
   "cell_type": "code",
   "execution_count": 23,
   "metadata": {},
   "outputs": [
    {
     "name": "stdout",
     "output_type": "stream",
     "text": [
      "Enter a sentence seperated by whitespaces : hello world and practice makes perfect and hello world again\n",
      "\n",
      "The output after removing duplicate words and sorting them alphanumerically is : \n",
      " again and hello makes perfect practice world\n"
     ]
    }
   ],
   "source": [
    "seq = input(\"Enter a sentence seperated by whitespaces : \")    # input sequence of words           \n",
    "words = [word for word in seq.split(\" \")]                      # split the words based on whitespaces \n",
    "print('\\nThe output after removing duplicate words and sorting them alphanumerically is : \\n',\" \".join(sorted(list(set(words)))))     # arrange them alphanumerically and display the output "
   ]
  },
  {
   "cell_type": "code",
   "execution_count": null,
   "metadata": {},
   "outputs": [],
   "source": []
  }
 ],
 "metadata": {
  "kernelspec": {
   "display_name": "Python 3",
   "language": "python",
   "name": "python3"
  },
  "language_info": {
   "codemirror_mode": {
    "name": "ipython",
    "version": 3
   },
   "file_extension": ".py",
   "mimetype": "text/x-python",
   "name": "python",
   "nbconvert_exporter": "python",
   "pygments_lexer": "ipython3",
   "version": "3.5.5"
  }
 },
 "nbformat": 4,
 "nbformat_minor": 2
}
