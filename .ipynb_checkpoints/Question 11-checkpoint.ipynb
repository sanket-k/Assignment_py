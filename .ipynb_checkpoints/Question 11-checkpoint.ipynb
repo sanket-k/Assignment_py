{
 "cells": [
  {
   "cell_type": "markdown",
   "metadata": {},
   "source": [
    "### Question 11"
   ]
  },
  {
   "cell_type": "markdown",
   "metadata": {},
   "source": [
    "Segment the following short text into sentences and words:\n",
    "\n",
    "s = u\"\"\"DTU course 02820 is taught by Mr. Bartlomiej Wilkowski,\n",
    "Mr. Marcin Marek Szewczyk & Finn Arup Nielsen, Ph.D. Some of aspects\n",
    "of the course are: machine learning and web 2.0. The telephone to Finn\n",
    "is (+45) 4525 3921, and his email is fn@imm.dtu.dk. A book\n",
    "published by O’Reilly called ’Programming Collective\n",
    "Intelligence’ might be useful. It costs $39.99 or 285.00 kroner in\n",
    "Polyteknisk Boghandle. Is ’Text Processing in Python’ appropriate for\n",
    "the course? Perhaps! The constructor function in Python is called\n",
    "\"__init__()\". fMRI will not be a topic of the course.\"\"\"\n",
    "\n",
    "Try both with the re module as well as with a function from nltk."
   ]
  },
  {
   "cell_type": "markdown",
   "metadata": {},
   "source": [
    "### Version 1"
   ]
  },
  {
   "cell_type": "code",
   "execution_count": 18,
   "metadata": {},
   "outputs": [
    {
     "name": "stdout",
     "output_type": "stream",
     "text": [
      "Enter the sentence : u\"\"\"DTU course 02820 is taught by Mr. Bartlomiej Wilkowski, Mr. Marcin Marek Szewczyk & Finn Arup Nielsen, Ph.D. Some of aspects of the course are: machine learning and web 2.0. The telephone to Finn is (+45) 4525 3921, and his email is fn@imm.dtu.dk. A book published by O’Reilly called ’Programming Collective Intelligence’ might be useful. It costs $39.99 or 285.00 kroner in Polyteknisk Boghandle. Is ’Text Processing in Python’ appropriate for the course? Perhaps! The constructor function in Python is called \"__init__()\". fMRI will not be a topic of the course.\"\"\"\n",
      "[('u', 'NN'), (\"''\", \"''\"), (\"''\", \"''\"), (\"''\", \"''\"), ('DTU', 'NNP'), ('course', 'NN'), ('02820', 'CD'), ('is', 'VBZ'), ('taught', 'VBN'), ('by', 'IN'), ('Mr.', 'NNP'), ('Bartlomiej', 'NNP'), ('Wilkowski', 'NNP'), (',', ','), ('Mr.', 'NNP'), ('Marcin', 'NNP'), ('Marek', 'NNP'), ('Szewczyk', 'NNP'), ('&', 'CC'), ('Finn', 'NNP'), ('Arup', 'NNP'), ('Nielsen', 'NNP'), (',', ','), ('Ph.D', 'NNP'), ('.', '.')]\n",
      "[('Some', 'DT'), ('of', 'IN'), ('aspects', 'NNS'), ('of', 'IN'), ('the', 'DT'), ('course', 'NN'), ('are', 'VBP'), (':', ':'), ('machine', 'NN'), ('learning', 'NN'), ('and', 'CC'), ('web', '$'), ('2.0', 'CD'), ('.', '.')]\n",
      "[('The', 'DT'), ('telephone', 'NN'), ('to', 'TO'), ('Finn', 'NNP'), ('is', 'VBZ'), ('(', '('), ('+45', 'NN'), (')', ')'), ('4525', 'CD'), ('3921', 'CD'), (',', ','), ('and', 'CC'), ('his', 'PRP$'), ('email', 'NN'), ('is', 'VBZ'), ('fn', 'JJ'), ('@', 'NNP'), ('imm.dtu.dk', 'NN'), ('.', '.')]\n",
      "[('A', 'DT'), ('book', 'NN'), ('published', 'VBN'), ('by', 'IN'), ('O', 'NNP'), ('’', 'NNP'), ('Reilly', 'NNP'), ('called', 'VBD'), ('’', 'RP'), ('Programming', 'NNP'), ('Collective', 'NNP'), ('Intelligence', 'NNP'), ('’', 'NNP'), ('might', 'MD'), ('be', 'VB'), ('useful', 'JJ'), ('.', '.')]\n",
      "[('It', 'PRP'), ('costs', 'VBZ'), ('$', '$'), ('39.99', 'CD'), ('or', 'CC'), ('285.00', 'CD'), ('kroner', 'NN'), ('in', 'IN'), ('Polyteknisk', 'NNP'), ('Boghandle', 'NNP'), ('.', '.')]\n",
      "[('Is', 'VBZ'), ('’', 'JJ'), ('Text', 'NNP'), ('Processing', 'NNP'), ('in', 'IN'), ('Python', 'NNP'), ('’', 'NNP'), ('appropriate', 'NN'), ('for', 'IN'), ('the', 'DT'), ('course', 'NN'), ('?', '.')]\n",
      "[('Perhaps', 'RB'), ('!', '.')]\n",
      "[('The', 'DT'), ('constructor', 'NN'), ('function', 'NN'), ('in', 'IN'), ('Python', 'NNP'), ('is', 'VBZ'), ('called', 'VBN'), ('``', '``'), ('__init__', 'NNP'), ('(', '('), (')', ')'), (\"''\", \"''\"), ('.', '.')]\n",
      "[('fMRI', 'NN'), ('will', 'MD'), ('not', 'RB'), ('be', 'VB'), ('a', 'DT'), ('topic', 'NN'), ('of', 'IN'), ('the', 'DT'), ('course', 'NN'), ('.', '.'), (\"''\", \"''\"), (\"''\", \"''\"), (\"''\", \"''\")]\n"
     ]
    }
   ],
   "source": [
    "import nltk                                                         # import nltk library\n",
    "\n",
    "text = input(\"Enter the sentence : \")                               # input the sentence \n",
    "\n",
    "sent_text = nltk.sent_tokenize(text)                                # this gives us a list of sentences\n",
    "\n",
    "for sentence in sent_text:                                          # now loop over each sentence and tokenize it separately\n",
    "    tokenized_text = nltk.word_tokenize(sentence)\n",
    "    tagged = nltk.pos_tag(tokenized_text)\n",
    "    print(tagged)                                                   # print the parsed sentence"
   ]
  },
  {
   "cell_type": "markdown",
   "metadata": {},
   "source": [
    "### Version 2"
   ]
  },
  {
   "cell_type": "code",
   "execution_count": 19,
   "metadata": {},
   "outputs": [
    {
     "name": "stdout",
     "output_type": "stream",
     "text": [
      "Enter the sentence : u\"\"\"DTU course 02820 is taught by Mr. Bartlomiej Wilkowski, Mr. Marcin Marek Szewczyk & Finn Arup Nielsen, Ph.D. Some of aspects of the course are: machine learning and web 2.0. The telephone to Finn is (+45) 4525 3921, and his email is fn@imm.dtu.dk. A book published by O’Reilly called ’Programming Collective Intelligence’ might be useful. It costs $39.99 or 285.00 kroner in Polyteknisk Boghandle. Is ’Text Processing in Python’ appropriate for the course? Perhaps! The constructor function in Python is called \"__init__()\". fMRI will not be a topic of the course.\"\"\"\n",
      "the parsed sentence is : \n",
      "u\"\"\"DTU course 02820 is taught by Mr.\n",
      "Bartlomiej Wilkowski, Mr.\n",
      "Marcin Marek Szewczyk & Finn Arup Nielsen, Ph.D. Some of aspects of the course are: machine learning and web 2.0. The telephone to Finn is (+45) 4525 3921, and his email is fn@imm.dtu.dk.\n",
      "A book published by O’Reilly called ’Programming Collective Intelligence’ might be useful.\n",
      "It costs $39.99 or 285.00 kroner in Polyteknisk Boghandle.\n",
      "Is ’Text Processing in Python’ appropriate for the course?\n",
      "Perhaps! The constructor function in Python is called \"__init__()\".\n",
      "fMRI will not be a topic of the course.\"\"\"\n"
     ]
    }
   ],
   "source": [
    "import re                                                             # import re library\n",
    "\n",
    "sentence = input(\"Enter the sentence : \")                             # input the sentence \n",
    "sentences = re.split(r'(?<!\\w\\.\\w.)(?<![A-Z][a-z][0-9]\\.)(?<=\\.|\\?)\\s', sentence)    # split sentence using all charecter maekers and breakers\n",
    "\n",
    "print(\"the parsed sentence is : \")                                    # iterate through all words and print the parsed sentence  \n",
    "for i in sentences:\n",
    "        print(i)"
   ]
  },
  {
   "cell_type": "code",
   "execution_count": 10,
   "metadata": {},
   "outputs": [
    {
     "name": "stdout",
     "output_type": "stream",
     "text": [
      "this is a sentaence. it, now deleted by 0\n",
      "[['this', 'is', 'a', 'sentaence', '.'], ['it', ',', 'now', 'deleted', 'by', '0']]\n"
     ]
    }
   ],
   "source": [
    "# from nltk.tokenize import TweetTokenizer, sent_tokenize\n",
    "\n",
    "# input_text = input()\n",
    "\n",
    "# tokenizer_words = TweetTokenizer()\n",
    "# tokens_sentences = [tokenizer_words.tokenize(t) for t in nltk.sent_tokenize(input_text)]\n",
    "# print(tokens_sentences)"
   ]
  },
  {
   "cell_type": "code",
   "execution_count": 9,
   "metadata": {},
   "outputs": [
    {
     "name": "stdout",
     "output_type": "stream",
     "text": [
      "['this is a sentaence.', 'it, now deleted by 0']\n"
     ]
    }
   ],
   "source": [
    "# from nltk.tokenize import sent_tokenize\n",
    "\n",
    "# string = \"this is a sentaence. it, now deleted by 0\"\n",
    "\n",
    "# sent_tokenize_list = sent_tokenize(string)\n",
    "# print(sent_tokenize_list)"
   ]
  },
  {
   "cell_type": "code",
   "execution_count": null,
   "metadata": {},
   "outputs": [],
   "source": []
  }
 ],
 "metadata": {
  "kernelspec": {
   "display_name": "Python 3",
   "language": "python",
   "name": "python3"
  },
  "language_info": {
   "codemirror_mode": {
    "name": "ipython",
    "version": 3
   },
   "file_extension": ".py",
   "mimetype": "text/x-python",
   "name": "python",
   "nbconvert_exporter": "python",
   "pygments_lexer": "ipython3",
   "version": "3.5.5"
  }
 },
 "nbformat": 4,
 "nbformat_minor": 2
}
