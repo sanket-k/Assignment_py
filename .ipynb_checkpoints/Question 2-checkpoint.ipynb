{
 "cells": [
  {
   "cell_type": "markdown",
   "metadata": {},
   "source": [
    "### Question 2"
   ]
  },
  {
   "cell_type": "markdown",
   "metadata": {},
   "source": [
    "Write a program which takes 2 digits, X,Y as input and generates a 2-dimensional array. The\n",
    "element value in the i-th row and j-th column of the array should be i*j.\n",
    "\n",
    "Note: i=0,1.., X-1; j=0,1,¡ Y-1.\n",
    "\n",
    "#### Example\n",
    "\n",
    "Suppose the following inputs are given to the program:\n",
    "    \n",
    "3,5\n",
    "\n",
    "Then, the output of the program should be:\n",
    "    \n",
    "[[0, 0, 0, 0, 0], [0, 1, 2, 3, 4], [0, 2, 4, 6, 8]]"
   ]
  },
  {
   "cell_type": "markdown",
   "metadata": {},
   "source": [
    "### Version 1"
   ]
  },
  {
   "cell_type": "code",
   "execution_count": 4,
   "metadata": {},
   "outputs": [],
   "source": [
    "#define function to display matrix by accepting variables\n",
    "def displayMatrix(x,y):\n",
    "    dim_array = [[0 for j in range(y)] for i in range(x)]        # define array\n",
    "    for i in range(x):                                           # use recurvise loop to reach entered numbers  \n",
    "        for j in range(y):\n",
    "            dim_array[i][j] = i * j                              # allocate array by multiplying the row and columns\n",
    "    return(dim_array)                                            # return array"
   ]
  },
  {
   "cell_type": "code",
   "execution_count": 5,
   "metadata": {
    "scrolled": true
   },
   "outputs": [
    {
     "name": "stdout",
     "output_type": "stream",
     "text": [
      "Input the number of rows : 3\n",
      "Input the number of columns : 5\n",
      "the 2-Dimensional array is : [[0, 0, 0, 0, 0], [0, 1, 2, 3, 4], [0, 2, 4, 6, 8]]\n"
     ]
    }
   ],
   "source": [
    "x = int(input(\"Input the number of rows : \"))                    # input the number of rows\n",
    "y = int(input(\"Input the number of columns : \"))                 # input number of columns\n",
    "\n",
    "print(\"the 2-Dimensional array is : {}\". format(displayMatrix(x,y)))    # display the array"
   ]
  },
  {
   "cell_type": "markdown",
   "metadata": {},
   "source": [
    "### Verision 2"
   ]
  },
  {
   "cell_type": "code",
   "execution_count": 3,
   "metadata": {},
   "outputs": [
    {
     "name": "stdout",
     "output_type": "stream",
     "text": [
      "Input number of rows: 3\n",
      "Input number of columns: 5\n",
      "the 2-Dimensional array is : [[0, 0, 0, 0, 0], [0, 1, 2, 3, 4], [0, 2, 4, 6, 8]]\n"
     ]
    }
   ],
   "source": [
    "row_num = int(input(\"Input number of rows: \"))                           # input rows\n",
    "col_num = int(input(\"Input number of columns: \"))                        # input columns\n",
    "multi_list = [[0 for col in range(col_num)] for row in range(row_num)]   # allocate array\n",
    "\n",
    "for row in range(row_num):                                               # recursive loop to reach entered numbers  \n",
    "    for col in range(col_num):                                     \n",
    "        multi_list[row][col]= row*col                                    # allocate array by multiplying the row and columns\n",
    "\n",
    "print(\"the 2-Dimensional array is : {}\".format(multi_list))              # display the array "
   ]
  },
  {
   "cell_type": "code",
   "execution_count": null,
   "metadata": {},
   "outputs": [],
   "source": []
  }
 ],
 "metadata": {
  "kernelspec": {
   "display_name": "Python 3",
   "language": "python",
   "name": "python3"
  },
  "language_info": {
   "codemirror_mode": {
    "name": "ipython",
    "version": 3
   },
   "file_extension": ".py",
   "mimetype": "text/x-python",
   "name": "python",
   "nbconvert_exporter": "python",
   "pygments_lexer": "ipython3",
   "version": "3.5.5"
  }
 },
 "nbformat": 4,
 "nbformat_minor": 2
}
