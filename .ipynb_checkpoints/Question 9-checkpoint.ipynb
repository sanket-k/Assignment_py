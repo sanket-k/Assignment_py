{
 "cells": [
  {
   "cell_type": "markdown",
   "metadata": {},
   "source": [
    "### Question 9"
   ]
  },
  {
   "cell_type": "markdown",
   "metadata": {},
   "source": [
    "Write a program that computes the net amount of a bank account based a transaction log from\n",
    "console input. The transaction log format is shown as following:\n",
    "\n",
    "D 100\n",
    "\n",
    "W 200\n",
    "\n",
    "...\n",
    "\n",
    "D means deposit while W means withdrawal.\n",
    "\n",
    "Suppose the following input is supplied to the program:\n",
    "\n",
    "D 300\n",
    "\n",
    "D 300\n",
    "\n",
    "W 200\n",
    "\n",
    "D 100\n",
    "\n",
    "Then, the output should be:\n",
    "\n",
    "500"
   ]
  },
  {
   "cell_type": "markdown",
   "metadata": {},
   "source": [
    "### Version 1"
   ]
  },
  {
   "cell_type": "code",
   "execution_count": 17,
   "metadata": {},
   "outputs": [
    {
     "name": "stdout",
     "output_type": "stream",
     "text": [
      "--> D 300\n",
      "--> D 300\n",
      "--> W 200\n",
      "--> D 100\n",
      "--> \n",
      "The net amount is : 500 \n"
     ]
    }
   ],
   "source": [
    "net_transaction = 0                                                # set initial amount to 0\n",
    "\n",
    "while True:                                                        # keep checking for input \n",
    "    input_trans = input(\"--> \").split()                            # input value and split      \n",
    "    if not input_trans:\n",
    "        break;                                                     # break if there is no input\n",
    "\n",
    "    net_amount = int(input_trans[1])                               \n",
    "    if input_trans[0] == 'D':                                      # check if the initial char starts with D for Deposit\n",
    "        net_transaction += net_amount                              # add it to the net amount\n",
    "    elif input_trans[0] == 'W':                                    # check if the initial char starts with W for Withdrawal\n",
    "        net_transaction -= net_amount                              # deduct it from the net amount \n",
    "\n",
    "print(\"The net amount is : {} \".format(net_transaction))           # display the remaining amount"
   ]
  },
  {
   "cell_type": "markdown",
   "metadata": {},
   "source": [
    "### Version 2"
   ]
  },
  {
   "cell_type": "code",
   "execution_count": 23,
   "metadata": {},
   "outputs": [
    {
     "name": "stdout",
     "output_type": "stream",
     "text": [
      "--> D 300\n",
      "--> D 300\n",
      "--> W 200\n",
      "--> D 100\n",
      "--> \n",
      "The net amount is : 500 \n"
     ]
    }
   ],
   "source": [
    "net_amount = 0                                                      # set initial amount to 0  \n",
    "\n",
    "while True:                                                         # keep checking for input\n",
    "    s = input(\"--> \")                                               # input value and split\n",
    "    if not s:\n",
    "        break                                                       # break if there is no input\n",
    "    values = s.split(\" \")                                            \n",
    "    operation = values[0]\n",
    "    amount = int(values[1])\n",
    "    if operation==\"D\":                                              # check if the initial char starts with D for Deposit\n",
    "        net_amount+=amount                                          # add it to the net amount\n",
    "    elif operation==\"W\":                                            # check if the initial char starts with W for Withdrawal\n",
    "        net_amount-=amount                                          # deduct it from the net amount          \n",
    "    else:\n",
    "        pass\n",
    "print(\"The net amount is : {} \".format(net_amount))                 # display the remaining amount "
   ]
  }
 ],
 "metadata": {
  "kernelspec": {
   "display_name": "Python 3",
   "language": "python",
   "name": "python3"
  },
  "language_info": {
   "codemirror_mode": {
    "name": "ipython",
    "version": 3
   },
   "file_extension": ".py",
   "mimetype": "text/x-python",
   "name": "python",
   "nbconvert_exporter": "python",
   "pygments_lexer": "ipython3",
   "version": "3.5.5"
  }
 },
 "nbformat": 4,
 "nbformat_minor": 2
}
