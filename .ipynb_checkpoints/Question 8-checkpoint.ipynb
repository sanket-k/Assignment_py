{
 "cells": [
  {
   "cell_type": "markdown",
   "metadata": {},
   "source": [
    "### Question 8"
   ]
  },
  {
   "cell_type": "markdown",
   "metadata": {},
   "source": [
    "Write a program that computes the value of a+aa+aaa+aaaa with a given digit as the value of a.\n",
    "\n",
    "Suppose the following input is supplied to the program:\n",
    "\n",
    "9\n",
    "\n",
    "Then, the output should be:\n",
    "\n",
    "11106"
   ]
  },
  {
   "cell_type": "markdown",
   "metadata": {},
   "source": [
    "### Version 1"
   ]
  },
  {
   "cell_type": "code",
   "execution_count": 17,
   "metadata": {},
   "outputs": [
    {
     "name": "stdout",
     "output_type": "stream",
     "text": [
      "enter the digit : 9\n",
      "the sum value of digti is : 11106 \n"
     ]
    }
   ],
   "source": [
    "number = input(\"enter the digit : \")                             # input digit\n",
    "\n",
    "p1 = int( \"%s\" % number )                                        \n",
    "p2 = int( \"%s%s\" % (number,number) )\n",
    "p3 = int( \"%s%s%s\" % (number,number,number) )\n",
    "p4 = int( \"%s%s%s%s\" % (number,number,number,number) )\n",
    "\n",
    "sum_of_all = p1 + p2 + p3 + p4                                   # add all value \n",
    "\n",
    "print(\"the sum value of digti is : {} \".format(sum_of_all))      # display result"
   ]
  },
  {
   "cell_type": "markdown",
   "metadata": {},
   "source": [
    "### Version 2"
   ]
  },
  {
   "cell_type": "code",
   "execution_count": 24,
   "metadata": {},
   "outputs": [
    {
     "name": "stdout",
     "output_type": "stream",
     "text": [
      "enter number :9\n",
      "the sum value of digti is : 11106 \n"
     ]
    }
   ],
   "source": [
    "number = input(\"enter number :\")                                 # input digit\n",
    "DIGIT = 4\n",
    "res = 0\n",
    "for i in range(1,DIGIT+1):                                       # add all value\n",
    "    res += int(str(number)*i)                                    # mult and add \n",
    "print(\"the sum value of digti is : {} \".format(res))             # display result"
   ]
  },
  {
   "cell_type": "code",
   "execution_count": null,
   "metadata": {},
   "outputs": [],
   "source": []
  }
 ],
 "metadata": {
  "kernelspec": {
   "display_name": "Python 3",
   "language": "python",
   "name": "python3"
  },
  "language_info": {
   "codemirror_mode": {
    "name": "ipython",
    "version": 3
   },
   "file_extension": ".py",
   "mimetype": "text/x-python",
   "name": "python",
   "nbconvert_exporter": "python",
   "pygments_lexer": "ipython3",
   "version": "3.5.5"
  }
 },
 "nbformat": 4,
 "nbformat_minor": 2
}
