{
 "cells": [
  {
   "cell_type": "markdown",
   "metadata": {},
   "source": [
    "### Question 7"
   ]
  },
  {
   "cell_type": "markdown",
   "metadata": {},
   "source": [
    "Write a program that accepts a sentence and calculate the number of letters and digits.\n",
    "\n",
    "Suppose the following input is supplied to the program:\n",
    "\n",
    "hello world! 123\n",
    "\n",
    "Then, the output should be:\n",
    "\n",
    "LETTERS 10\n",
    "\n",
    "DIGITS 3"
   ]
  },
  {
   "cell_type": "markdown",
   "metadata": {},
   "source": [
    "### Version 1"
   ]
  },
  {
   "cell_type": "code",
   "execution_count": 9,
   "metadata": {},
   "outputs": [
    {
     "name": "stdout",
     "output_type": "stream",
     "text": [
      " Input a string : hello world! 123\n",
      "The number of letters are : 10\n",
      "The number of digits are  : 3\n"
     ]
    }
   ],
   "source": [
    "string_in = input(\" Input a string : \")                          # input sentence\n",
    "\n",
    "digit = 0                                                        # assign digit variable to 0\n",
    "letter = 0                                                       # assign letter variable to 0\n",
    "\n",
    "for i in string_in:                                              # iterate total numeber of charecters \n",
    "    if i.isalpha():                                              # check if charecter is an alphabet\n",
    "        letter += 1                                              # increase letter count by 1\n",
    "    elif i.isdigit():                                            # check if charecter is an digit\n",
    "        digit += 1                                               # increase digit count by 1 \n",
    "    else:\n",
    "        pass\n",
    "\n",
    "print(\"The number of letters are : {}\".format(letter))           # display total number of letter\n",
    "print(\"The number of digits are  : {}\".format(digit))            # display taoal number of digit"
   ]
  },
  {
   "cell_type": "markdown",
   "metadata": {},
   "source": [
    "### Version 2"
   ]
  },
  {
   "cell_type": "code",
   "execution_count": 10,
   "metadata": {},
   "outputs": [
    {
     "name": "stdout",
     "output_type": "stream",
     "text": [
      " Input a string : hello world! 123\n",
      "LETTERS 10\n",
      "DIGITS 3\n"
     ]
    }
   ],
   "source": [
    "string_in = input(\" Input a string : \")                          # input sentence\n",
    "\n",
    "d = {\"DIGITS\":0, \"LETTERS\":0}                                    # assign digit and letter variable to 0\n",
    "for i in string_in:                                              # iterate total numeber of charecters  \n",
    "    if i.isdigit():                                              # check if charecter is an digit\n",
    "        d[\"DIGITS\"]+=1                                           # increase digit count by 1  \n",
    "    elif i.isalpha():                                            # check if charecter is an alphabet\n",
    "        d[\"LETTERS\"]+=1                                          # increase letter count by 1\n",
    "    else:\n",
    "        pass\n",
    "print(\"LETTERS\", d[\"LETTERS\"])                                   # display total number of letter\n",
    "print(\"DIGITS\", d[\"DIGITS\"])                                     # display taoal number of digit"
   ]
  }
 ],
 "metadata": {
  "kernelspec": {
   "display_name": "Python 3",
   "language": "python",
   "name": "python3"
  },
  "language_info": {
   "codemirror_mode": {
    "name": "ipython",
    "version": 3
   },
   "file_extension": ".py",
   "mimetype": "text/x-python",
   "name": "python",
   "nbconvert_exporter": "python",
   "pygments_lexer": "ipython3",
   "version": "3.5.5"
  }
 },
 "nbformat": 4,
 "nbformat_minor": 2
}
